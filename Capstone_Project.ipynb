{
 "cells": [
  {
   "cell_type": "markdown",
   "metadata": {},
   "source": [
    "### Applied Data Science Capstone"
   ]
  },
  {
   "cell_type": "markdown",
   "metadata": {},
   "source": [
    "This notebook would strictly be used for the applied data science capstone project which is part of the IBM Data Science Professional Certificate"
   ]
  },
  {
   "cell_type": "code",
   "execution_count": 14,
   "metadata": {},
   "outputs": [
    {
     "name": "stdout",
     "output_type": "stream",
     "text": [
      "Hello Capstone Project Course!\n"
     ]
    }
   ],
   "source": [
    "print('Hello Capstone Project Course!')"
   ]
  },
  {
   "cell_type": "markdown",
   "metadata": {},
   "source": [
    "###### Importing Scientific Computing and Visualization Libraries"
   ]
  },
  {
   "cell_type": "code",
   "execution_count": 1,
   "metadata": {},
   "outputs": [],
   "source": [
    "import pandas as pd\n",
    "import numpy as np\n",
    "import matplotlib.pyplot as plt\n",
    "import seaborn as sns\n",
    "%matplotlib inline"
   ]
  },
  {
   "cell_type": "markdown",
   "metadata": {},
   "source": [
    "###### Importing Dataset"
   ]
  },
  {
   "cell_type": "code",
   "execution_count": 2,
   "metadata": {},
   "outputs": [
    {
     "name": "stderr",
     "output_type": "stream",
     "text": [
      "C:\\Anaconda\\lib\\site-packages\\IPython\\core\\interactiveshell.py:3058: DtypeWarning: Columns (33) have mixed types. Specify dtype option on import or set low_memory=False.\n",
      "  interactivity=interactivity, compiler=compiler, result=result)\n"
     ]
    }
   ],
   "source": [
    "df = pd.read_csv('C:/Users/Idris/Desktop/coursera/data/Data-Collisions.csv')"
   ]
  },
  {
   "cell_type": "code",
   "execution_count": 3,
   "metadata": {},
   "outputs": [
    {
     "data": {
      "text/html": [
       "<div>\n",
       "<style scoped>\n",
       "    .dataframe tbody tr th:only-of-type {\n",
       "        vertical-align: middle;\n",
       "    }\n",
       "\n",
       "    .dataframe tbody tr th {\n",
       "        vertical-align: top;\n",
       "    }\n",
       "\n",
       "    .dataframe thead th {\n",
       "        text-align: right;\n",
       "    }\n",
       "</style>\n",
       "<table border=\"1\" class=\"dataframe\">\n",
       "  <thead>\n",
       "    <tr style=\"text-align: right;\">\n",
       "      <th></th>\n",
       "      <th>SEVERITYCODE</th>\n",
       "      <th>X</th>\n",
       "      <th>Y</th>\n",
       "      <th>OBJECTID</th>\n",
       "      <th>INCKEY</th>\n",
       "      <th>COLDETKEY</th>\n",
       "      <th>REPORTNO</th>\n",
       "      <th>STATUS</th>\n",
       "      <th>ADDRTYPE</th>\n",
       "      <th>INTKEY</th>\n",
       "      <th>...</th>\n",
       "      <th>ROADCOND</th>\n",
       "      <th>LIGHTCOND</th>\n",
       "      <th>PEDROWNOTGRNT</th>\n",
       "      <th>SDOTCOLNUM</th>\n",
       "      <th>SPEEDING</th>\n",
       "      <th>ST_COLCODE</th>\n",
       "      <th>ST_COLDESC</th>\n",
       "      <th>SEGLANEKEY</th>\n",
       "      <th>CROSSWALKKEY</th>\n",
       "      <th>HITPARKEDCAR</th>\n",
       "    </tr>\n",
       "  </thead>\n",
       "  <tbody>\n",
       "    <tr>\n",
       "      <td>0</td>\n",
       "      <td>2</td>\n",
       "      <td>-122.323148</td>\n",
       "      <td>47.703140</td>\n",
       "      <td>1</td>\n",
       "      <td>1307</td>\n",
       "      <td>1307</td>\n",
       "      <td>3502005</td>\n",
       "      <td>Matched</td>\n",
       "      <td>Intersection</td>\n",
       "      <td>37475.0</td>\n",
       "      <td>...</td>\n",
       "      <td>Wet</td>\n",
       "      <td>Daylight</td>\n",
       "      <td>NaN</td>\n",
       "      <td>NaN</td>\n",
       "      <td>NaN</td>\n",
       "      <td>10</td>\n",
       "      <td>Entering at angle</td>\n",
       "      <td>0</td>\n",
       "      <td>0</td>\n",
       "      <td>N</td>\n",
       "    </tr>\n",
       "    <tr>\n",
       "      <td>1</td>\n",
       "      <td>1</td>\n",
       "      <td>-122.347294</td>\n",
       "      <td>47.647172</td>\n",
       "      <td>2</td>\n",
       "      <td>52200</td>\n",
       "      <td>52200</td>\n",
       "      <td>2607959</td>\n",
       "      <td>Matched</td>\n",
       "      <td>Block</td>\n",
       "      <td>NaN</td>\n",
       "      <td>...</td>\n",
       "      <td>Wet</td>\n",
       "      <td>Dark - Street Lights On</td>\n",
       "      <td>NaN</td>\n",
       "      <td>6354039.0</td>\n",
       "      <td>NaN</td>\n",
       "      <td>11</td>\n",
       "      <td>From same direction - both going straight - bo...</td>\n",
       "      <td>0</td>\n",
       "      <td>0</td>\n",
       "      <td>N</td>\n",
       "    </tr>\n",
       "    <tr>\n",
       "      <td>2</td>\n",
       "      <td>1</td>\n",
       "      <td>-122.334540</td>\n",
       "      <td>47.607871</td>\n",
       "      <td>3</td>\n",
       "      <td>26700</td>\n",
       "      <td>26700</td>\n",
       "      <td>1482393</td>\n",
       "      <td>Matched</td>\n",
       "      <td>Block</td>\n",
       "      <td>NaN</td>\n",
       "      <td>...</td>\n",
       "      <td>Dry</td>\n",
       "      <td>Daylight</td>\n",
       "      <td>NaN</td>\n",
       "      <td>4323031.0</td>\n",
       "      <td>NaN</td>\n",
       "      <td>32</td>\n",
       "      <td>One parked--one moving</td>\n",
       "      <td>0</td>\n",
       "      <td>0</td>\n",
       "      <td>N</td>\n",
       "    </tr>\n",
       "    <tr>\n",
       "      <td>3</td>\n",
       "      <td>1</td>\n",
       "      <td>-122.334803</td>\n",
       "      <td>47.604803</td>\n",
       "      <td>4</td>\n",
       "      <td>1144</td>\n",
       "      <td>1144</td>\n",
       "      <td>3503937</td>\n",
       "      <td>Matched</td>\n",
       "      <td>Block</td>\n",
       "      <td>NaN</td>\n",
       "      <td>...</td>\n",
       "      <td>Dry</td>\n",
       "      <td>Daylight</td>\n",
       "      <td>NaN</td>\n",
       "      <td>NaN</td>\n",
       "      <td>NaN</td>\n",
       "      <td>23</td>\n",
       "      <td>From same direction - all others</td>\n",
       "      <td>0</td>\n",
       "      <td>0</td>\n",
       "      <td>N</td>\n",
       "    </tr>\n",
       "    <tr>\n",
       "      <td>4</td>\n",
       "      <td>2</td>\n",
       "      <td>-122.306426</td>\n",
       "      <td>47.545739</td>\n",
       "      <td>5</td>\n",
       "      <td>17700</td>\n",
       "      <td>17700</td>\n",
       "      <td>1807429</td>\n",
       "      <td>Matched</td>\n",
       "      <td>Intersection</td>\n",
       "      <td>34387.0</td>\n",
       "      <td>...</td>\n",
       "      <td>Wet</td>\n",
       "      <td>Daylight</td>\n",
       "      <td>NaN</td>\n",
       "      <td>4028032.0</td>\n",
       "      <td>NaN</td>\n",
       "      <td>10</td>\n",
       "      <td>Entering at angle</td>\n",
       "      <td>0</td>\n",
       "      <td>0</td>\n",
       "      <td>N</td>\n",
       "    </tr>\n",
       "  </tbody>\n",
       "</table>\n",
       "<p>5 rows × 38 columns</p>\n",
       "</div>"
      ],
      "text/plain": [
       "   SEVERITYCODE           X          Y  OBJECTID  INCKEY  COLDETKEY REPORTNO  \\\n",
       "0             2 -122.323148  47.703140         1    1307       1307  3502005   \n",
       "1             1 -122.347294  47.647172         2   52200      52200  2607959   \n",
       "2             1 -122.334540  47.607871         3   26700      26700  1482393   \n",
       "3             1 -122.334803  47.604803         4    1144       1144  3503937   \n",
       "4             2 -122.306426  47.545739         5   17700      17700  1807429   \n",
       "\n",
       "    STATUS      ADDRTYPE   INTKEY  ... ROADCOND                LIGHTCOND  \\\n",
       "0  Matched  Intersection  37475.0  ...      Wet                 Daylight   \n",
       "1  Matched         Block      NaN  ...      Wet  Dark - Street Lights On   \n",
       "2  Matched         Block      NaN  ...      Dry                 Daylight   \n",
       "3  Matched         Block      NaN  ...      Dry                 Daylight   \n",
       "4  Matched  Intersection  34387.0  ...      Wet                 Daylight   \n",
       "\n",
       "  PEDROWNOTGRNT  SDOTCOLNUM SPEEDING ST_COLCODE  \\\n",
       "0           NaN         NaN      NaN         10   \n",
       "1           NaN   6354039.0      NaN         11   \n",
       "2           NaN   4323031.0      NaN         32   \n",
       "3           NaN         NaN      NaN         23   \n",
       "4           NaN   4028032.0      NaN         10   \n",
       "\n",
       "                                          ST_COLDESC  SEGLANEKEY  \\\n",
       "0                                  Entering at angle           0   \n",
       "1  From same direction - both going straight - bo...           0   \n",
       "2                             One parked--one moving           0   \n",
       "3                   From same direction - all others           0   \n",
       "4                                  Entering at angle           0   \n",
       "\n",
       "   CROSSWALKKEY  HITPARKEDCAR  \n",
       "0             0             N  \n",
       "1             0             N  \n",
       "2             0             N  \n",
       "3             0             N  \n",
       "4             0             N  \n",
       "\n",
       "[5 rows x 38 columns]"
      ]
     },
     "execution_count": 3,
     "metadata": {},
     "output_type": "execute_result"
    }
   ],
   "source": [
    "df.head()"
   ]
  },
  {
   "cell_type": "markdown",
   "metadata": {},
   "source": [
    "###### Data Cleaning"
   ]
  },
  {
   "cell_type": "code",
   "execution_count": 4,
   "metadata": {},
   "outputs": [
    {
     "data": {
      "text/plain": [
       "SEVERITYCODE           0\n",
       "X                   5334\n",
       "Y                   5334\n",
       "OBJECTID               0\n",
       "INCKEY                 0\n",
       "COLDETKEY              0\n",
       "REPORTNO               0\n",
       "STATUS                 0\n",
       "ADDRTYPE            1926\n",
       "INTKEY            129603\n",
       "LOCATION            2677\n",
       "EXCEPTRSNCODE     109862\n",
       "EXCEPTRSNDESC     189035\n",
       "SEVERITYCODE.1         0\n",
       "SEVERITYDESC           0\n",
       "COLLISIONTYPE       4904\n",
       "PERSONCOUNT            0\n",
       "PEDCOUNT               0\n",
       "PEDCYLCOUNT            0\n",
       "VEHCOUNT               0\n",
       "INCDATE                0\n",
       "INCDTTM                0\n",
       "JUNCTIONTYPE        6329\n",
       "SDOT_COLCODE           0\n",
       "SDOT_COLDESC           0\n",
       "INATTENTIONIND    164868\n",
       "UNDERINFL           4884\n",
       "WEATHER             5081\n",
       "ROADCOND            5012\n",
       "LIGHTCOND           5170\n",
       "PEDROWNOTGRNT     190006\n",
       "SDOTCOLNUM         79737\n",
       "SPEEDING          185340\n",
       "ST_COLCODE            18\n",
       "ST_COLDESC          4904\n",
       "SEGLANEKEY             0\n",
       "CROSSWALKKEY           0\n",
       "HITPARKEDCAR           0\n",
       "dtype: int64"
      ]
     },
     "execution_count": 4,
     "metadata": {},
     "output_type": "execute_result"
    }
   ],
   "source": [
    "# check for sum of missing values\n",
    "df.isnull().sum()"
   ]
  },
  {
   "cell_type": "code",
   "execution_count": 5,
   "metadata": {
    "scrolled": false
   },
   "outputs": [
    {
     "data": {
      "text/plain": [
       "<matplotlib.axes._subplots.AxesSubplot at 0x1d700028908>"
      ]
     },
     "execution_count": 5,
     "metadata": {},
     "output_type": "execute_result"
    },
    {
     "data": {
      "image/png": "[encoded data removed]",
      "text/plain": [
       "<Figure size 1440x864 with 1 Axes>"
      ]
     },
     "metadata": {
      "needs_background": "light"
     },
     "output_type": "display_data"
    }
   ],
   "source": [
    "# visualizing dataset to see columns that have missing values\n",
    "plt.figure(figsize=(20,12))\n",
    "sns.heatmap(df.isnull(),yticklabels=False,cbar=False,cmap='summer')"
   ]
  },
  {
   "cell_type": "code",
   "execution_count": 6,
   "metadata": {},
   "outputs": [],
   "source": [
    "# drop features that have too many missing values\n",
    "df.drop(labels=['INTKEY','EXCEPTRSNCODE','EXCEPTRSNDESC','INATTENTIONIND','PEDROWNOTGRNT','SDOTCOLNUM','SPEEDING'],\n",
    "        axis=1, inplace=True)"
   ]
  },
  {
   "cell_type": "code",
   "execution_count": 7,
   "metadata": {},
   "outputs": [
    {
     "data": {
      "text/plain": [
       "<matplotlib.axes._subplots.AxesSubplot at 0x1d7009f96c8>"
      ]
     },
     "execution_count": 7,
     "metadata": {},
     "output_type": "execute_result"
    },
    {
     "data": {
      "image/png": "[encoded data removed]",
      "text/plain": [
       "<Figure size 1440x864 with 1 Axes>"
      ]
     },
     "metadata": {
      "needs_background": "light"
     },
     "output_type": "display_data"
    }
   ],
   "source": [
    "# revisualizing dataset to see new dataframe\n",
    "plt.figure(figsize=(20,12))\n",
    "sns.heatmap(df.isnull(),yticklabels=False,cbar=False,cmap='summer')"
   ]
  },
  {
   "cell_type": "code",
   "execution_count": 8,
   "metadata": {},
   "outputs": [],
   "source": [
    "# drop remaining missing values within dataframe since they are quite few\n",
    "df.dropna(inplace=True)"
   ]
  },
  {
   "cell_type": "code",
   "execution_count": 9,
   "metadata": {},
   "outputs": [
    {
     "data": {
      "text/plain": [
       "<matplotlib.axes._subplots.AxesSubplot at 0x1d700712b08>"
      ]
     },
     "execution_count": 9,
     "metadata": {},
     "output_type": "execute_result"
    },
    {
     "data": {
      "image/png": "[encoded data removed]",
      "text/plain": [
       "<Figure size 1440x864 with 1 Axes>"
      ]
     },
     "metadata": {
      "needs_background": "light"
     },
     "output_type": "display_data"
    }
   ],
   "source": [
    "# revisualizing dataset to see new dataframe without missing values\n",
    "plt.figure(figsize=(20,12))\n",
    "sns.heatmap(df.isnull(),yticklabels=False,cbar=False,cmap='summer')\n",
    "# new dataset does not contain any missing value"
   ]
  },
  {
   "cell_type": "code",
   "execution_count": 10,
   "metadata": {},
   "outputs": [
    {
     "data": {
      "text/plain": [
       "SEVERITYCODE      0\n",
       "X                 0\n",
       "Y                 0\n",
       "OBJECTID          0\n",
       "INCKEY            0\n",
       "COLDETKEY         0\n",
       "REPORTNO          0\n",
       "STATUS            0\n",
       "ADDRTYPE          0\n",
       "LOCATION          0\n",
       "SEVERITYCODE.1    0\n",
       "SEVERITYDESC      0\n",
       "COLLISIONTYPE     0\n",
       "PERSONCOUNT       0\n",
       "PEDCOUNT          0\n",
       "PEDCYLCOUNT       0\n",
       "VEHCOUNT          0\n",
       "INCDATE           0\n",
       "INCDTTM           0\n",
       "JUNCTIONTYPE      0\n",
       "SDOT_COLCODE      0\n",
       "SDOT_COLDESC      0\n",
       "UNDERINFL         0\n",
       "WEATHER           0\n",
       "ROADCOND          0\n",
       "LIGHTCOND         0\n",
       "ST_COLCODE        0\n",
       "ST_COLDESC        0\n",
       "SEGLANEKEY        0\n",
       "CROSSWALKKEY      0\n",
       "HITPARKEDCAR      0\n",
       "dtype: int64"
      ]
     },
     "execution_count": 10,
     "metadata": {},
     "output_type": "execute_result"
    }
   ],
   "source": [
    "df.isnull().sum()"
   ]
  },
  {
   "cell_type": "code",
   "execution_count": 11,
   "metadata": {},
   "outputs": [
    {
     "name": "stdout",
     "output_type": "stream",
     "text": [
      "<class 'pandas.core.frame.DataFrame'>\n",
      "Int64Index: 180067 entries, 0 to 194672\n",
      "Data columns (total 31 columns):\n",
      "SEVERITYCODE      180067 non-null int64\n",
      "X                 180067 non-null float64\n",
      "Y                 180067 non-null float64\n",
      "OBJECTID          180067 non-null int64\n",
      "INCKEY            180067 non-null int64\n",
      "COLDETKEY         180067 non-null int64\n",
      "REPORTNO          180067 non-null object\n",
      "STATUS            180067 non-null object\n",
      "ADDRTYPE          180067 non-null object\n",
      "LOCATION          180067 non-null object\n",
      "SEVERITYCODE.1    180067 non-null int64\n",
      "SEVERITYDESC      180067 non-null object\n",
      "COLLISIONTYPE     180067 non-null object\n",
      "PERSONCOUNT       180067 non-null int64\n",
      "PEDCOUNT          180067 non-null int64\n",
      "PEDCYLCOUNT       180067 non-null int64\n",
      "VEHCOUNT          180067 non-null int64\n",
      "INCDATE           180067 non-null object\n",
      "INCDTTM           180067 non-null object\n",
      "JUNCTIONTYPE      180067 non-null object\n",
      "SDOT_COLCODE      180067 non-null int64\n",
      "SDOT_COLDESC      180067 non-null object\n",
      "UNDERINFL         180067 non-null object\n",
      "WEATHER           180067 non-null object\n",
      "ROADCOND          180067 non-null object\n",
      "LIGHTCOND         180067 non-null object\n",
      "ST_COLCODE        180067 non-null object\n",
      "ST_COLDESC        180067 non-null object\n",
      "SEGLANEKEY        180067 non-null int64\n",
      "CROSSWALKKEY      180067 non-null int64\n",
      "HITPARKEDCAR      180067 non-null object\n",
      "dtypes: float64(2), int64(12), object(17)\n",
      "memory usage: 44.0+ MB\n"
     ]
    }
   ],
   "source": [
    "df.info()"
   ]
  },
  {
   "cell_type": "markdown",
   "metadata": {},
   "source": [
    "###### Exploratory Data Analysis and Feature Selection"
   ]
  },
  {
   "cell_type": "code",
   "execution_count": 12,
   "metadata": {},
   "outputs": [],
   "source": [
    "# drop these features since they were just descriptive columns\n",
    "df.drop(labels=['SEVERITYDESC', 'SDOT_COLDESC', 'ST_COLDESC'],\n",
    "       axis=1, inplace=True)"
   ]
  },
  {
   "cell_type": "code",
   "execution_count": 13,
   "metadata": {},
   "outputs": [
    {
     "data": {
      "text/plain": [
       "Index(['SEVERITYCODE', 'X', 'Y', 'OBJECTID', 'INCKEY', 'COLDETKEY', 'REPORTNO',\n",
       "       'STATUS', 'ADDRTYPE', 'LOCATION', 'SEVERITYCODE.1', 'COLLISIONTYPE',\n",
       "       'PERSONCOUNT', 'PEDCOUNT', 'PEDCYLCOUNT', 'VEHCOUNT', 'INCDATE',\n",
       "       'INCDTTM', 'JUNCTIONTYPE', 'SDOT_COLCODE', 'UNDERINFL', 'WEATHER',\n",
       "       'ROADCOND', 'LIGHTCOND', 'ST_COLCODE', 'SEGLANEKEY', 'CROSSWALKKEY',\n",
       "       'HITPARKEDCAR'],\n",
       "      dtype='object')"
      ]
     },
     "execution_count": 13,
     "metadata": {},
     "output_type": "execute_result"
    }
   ],
   "source": [
    "df.columns"
   ]
  },
  {
   "cell_type": "code",
   "execution_count": 14,
   "metadata": {
    "scrolled": false
   },
   "outputs": [
    {
     "data": {
      "text/html": [
       "<div>\n",
       "<style scoped>\n",
       "    .dataframe tbody tr th:only-of-type {\n",
       "        vertical-align: middle;\n",
       "    }\n",
       "\n",
       "    .dataframe tbody tr th {\n",
       "        vertical-align: top;\n",
       "    }\n",
       "\n",
       "    .dataframe thead th {\n",
       "        text-align: right;\n",
       "    }\n",
       "</style>\n",
       "<table border=\"1\" class=\"dataframe\">\n",
       "  <thead>\n",
       "    <tr style=\"text-align: right;\">\n",
       "      <th></th>\n",
       "      <th>SEVERITYCODE</th>\n",
       "      <th>X</th>\n",
       "      <th>Y</th>\n",
       "      <th>OBJECTID</th>\n",
       "      <th>INCKEY</th>\n",
       "      <th>COLDETKEY</th>\n",
       "      <th>SEVERITYCODE.1</th>\n",
       "      <th>PERSONCOUNT</th>\n",
       "      <th>PEDCOUNT</th>\n",
       "      <th>PEDCYLCOUNT</th>\n",
       "      <th>VEHCOUNT</th>\n",
       "      <th>SDOT_COLCODE</th>\n",
       "      <th>SEGLANEKEY</th>\n",
       "      <th>CROSSWALKKEY</th>\n",
       "    </tr>\n",
       "  </thead>\n",
       "  <tbody>\n",
       "    <tr>\n",
       "      <td>SEVERITYCODE</td>\n",
       "      <td>1.000000</td>\n",
       "      <td>0.009376</td>\n",
       "      <td>0.019453</td>\n",
       "      <td>0.033295</td>\n",
       "      <td>0.033775</td>\n",
       "      <td>0.033765</td>\n",
       "      <td>1.000000</td>\n",
       "      <td>0.124056</td>\n",
       "      <td>0.246640</td>\n",
       "      <td>0.214972</td>\n",
       "      <td>-0.084710</td>\n",
       "      <td>0.167126</td>\n",
       "      <td>0.104207</td>\n",
       "      <td>0.175470</td>\n",
       "    </tr>\n",
       "    <tr>\n",
       "      <td>X</td>\n",
       "      <td>0.009376</td>\n",
       "      <td>1.000000</td>\n",
       "      <td>-0.160256</td>\n",
       "      <td>0.011103</td>\n",
       "      <td>0.010655</td>\n",
       "      <td>0.010641</td>\n",
       "      <td>0.009376</td>\n",
       "      <td>0.012834</td>\n",
       "      <td>0.010829</td>\n",
       "      <td>-0.002093</td>\n",
       "      <td>-0.015696</td>\n",
       "      <td>0.009627</td>\n",
       "      <td>-0.001763</td>\n",
       "      <td>0.014074</td>\n",
       "    </tr>\n",
       "    <tr>\n",
       "      <td>Y</td>\n",
       "      <td>0.019453</td>\n",
       "      <td>-0.160256</td>\n",
       "      <td>1.000000</td>\n",
       "      <td>-0.024478</td>\n",
       "      <td>-0.026877</td>\n",
       "      <td>-0.026890</td>\n",
       "      <td>0.019453</td>\n",
       "      <td>-0.013937</td>\n",
       "      <td>0.010783</td>\n",
       "      <td>0.027070</td>\n",
       "      <td>0.020340</td>\n",
       "      <td>-0.018722</td>\n",
       "      <td>0.004485</td>\n",
       "      <td>0.009917</td>\n",
       "    </tr>\n",
       "    <tr>\n",
       "      <td>OBJECTID</td>\n",
       "      <td>0.033295</td>\n",
       "      <td>0.011103</td>\n",
       "      <td>-0.024478</td>\n",
       "      <td>1.000000</td>\n",
       "      <td>0.949900</td>\n",
       "      <td>0.949375</td>\n",
       "      <td>0.033295</td>\n",
       "      <td>-0.050523</td>\n",
       "      <td>0.031925</td>\n",
       "      <td>0.041067</td>\n",
       "      <td>-0.016035</td>\n",
       "      <td>-0.014311</td>\n",
       "      <td>0.030974</td>\n",
       "      <td>0.060922</td>\n",
       "    </tr>\n",
       "    <tr>\n",
       "      <td>INCKEY</td>\n",
       "      <td>0.033775</td>\n",
       "      <td>0.010655</td>\n",
       "      <td>-0.026877</td>\n",
       "      <td>0.949900</td>\n",
       "      <td>1.000000</td>\n",
       "      <td>0.999996</td>\n",
       "      <td>0.033775</td>\n",
       "      <td>-0.050278</td>\n",
       "      <td>0.032627</td>\n",
       "      <td>0.038202</td>\n",
       "      <td>-0.015539</td>\n",
       "      <td>-0.011945</td>\n",
       "      <td>0.022377</td>\n",
       "      <td>0.052519</td>\n",
       "    </tr>\n",
       "    <tr>\n",
       "      <td>COLDETKEY</td>\n",
       "      <td>0.033765</td>\n",
       "      <td>0.010641</td>\n",
       "      <td>-0.026890</td>\n",
       "      <td>0.949375</td>\n",
       "      <td>0.999996</td>\n",
       "      <td>1.000000</td>\n",
       "      <td>0.033765</td>\n",
       "      <td>-0.050197</td>\n",
       "      <td>0.032622</td>\n",
       "      <td>0.038155</td>\n",
       "      <td>-0.015530</td>\n",
       "      <td>-0.011891</td>\n",
       "      <td>0.022257</td>\n",
       "      <td>0.052392</td>\n",
       "    </tr>\n",
       "    <tr>\n",
       "      <td>SEVERITYCODE.1</td>\n",
       "      <td>1.000000</td>\n",
       "      <td>0.009376</td>\n",
       "      <td>0.019453</td>\n",
       "      <td>0.033295</td>\n",
       "      <td>0.033775</td>\n",
       "      <td>0.033765</td>\n",
       "      <td>1.000000</td>\n",
       "      <td>0.124056</td>\n",
       "      <td>0.246640</td>\n",
       "      <td>0.214972</td>\n",
       "      <td>-0.084710</td>\n",
       "      <td>0.167126</td>\n",
       "      <td>0.104207</td>\n",
       "      <td>0.175470</td>\n",
       "    </tr>\n",
       "    <tr>\n",
       "      <td>PERSONCOUNT</td>\n",
       "      <td>0.124056</td>\n",
       "      <td>0.012834</td>\n",
       "      <td>-0.013937</td>\n",
       "      <td>-0.050523</td>\n",
       "      <td>-0.050278</td>\n",
       "      <td>-0.050197</td>\n",
       "      <td>0.124056</td>\n",
       "      <td>1.000000</td>\n",
       "      <td>-0.027883</td>\n",
       "      <td>-0.043511</td>\n",
       "      <td>0.394979</td>\n",
       "      <td>-0.165458</td>\n",
       "      <td>-0.023215</td>\n",
       "      <td>-0.035761</td>\n",
       "    </tr>\n",
       "    <tr>\n",
       "      <td>PEDCOUNT</td>\n",
       "      <td>0.246640</td>\n",
       "      <td>0.010829</td>\n",
       "      <td>0.010783</td>\n",
       "      <td>0.031925</td>\n",
       "      <td>0.032627</td>\n",
       "      <td>0.032622</td>\n",
       "      <td>0.246640</td>\n",
       "      <td>-0.027883</td>\n",
       "      <td>1.000000</td>\n",
       "      <td>-0.018946</td>\n",
       "      <td>-0.321795</td>\n",
       "      <td>0.279085</td>\n",
       "      <td>0.001337</td>\n",
       "      <td>0.572838</td>\n",
       "    </tr>\n",
       "    <tr>\n",
       "      <td>PEDCYLCOUNT</td>\n",
       "      <td>0.214972</td>\n",
       "      <td>-0.002093</td>\n",
       "      <td>0.027070</td>\n",
       "      <td>0.041067</td>\n",
       "      <td>0.038202</td>\n",
       "      <td>0.038155</td>\n",
       "      <td>0.214972</td>\n",
       "      <td>-0.043511</td>\n",
       "      <td>-0.018946</td>\n",
       "      <td>1.000000</td>\n",
       "      <td>-0.311533</td>\n",
       "      <td>0.412626</td>\n",
       "      <td>0.455445</td>\n",
       "      <td>0.109145</td>\n",
       "    </tr>\n",
       "    <tr>\n",
       "      <td>VEHCOUNT</td>\n",
       "      <td>-0.084710</td>\n",
       "      <td>-0.015696</td>\n",
       "      <td>0.020340</td>\n",
       "      <td>-0.016035</td>\n",
       "      <td>-0.015539</td>\n",
       "      <td>-0.015530</td>\n",
       "      <td>-0.084710</td>\n",
       "      <td>0.394979</td>\n",
       "      <td>-0.321795</td>\n",
       "      <td>-0.311533</td>\n",
       "      <td>1.000000</td>\n",
       "      <td>-0.493297</td>\n",
       "      <td>-0.147410</td>\n",
       "      <td>-0.242480</td>\n",
       "    </tr>\n",
       "    <tr>\n",
       "      <td>SDOT_COLCODE</td>\n",
       "      <td>0.167126</td>\n",
       "      <td>0.009627</td>\n",
       "      <td>-0.018722</td>\n",
       "      <td>-0.014311</td>\n",
       "      <td>-0.011945</td>\n",
       "      <td>-0.011891</td>\n",
       "      <td>0.167126</td>\n",
       "      <td>-0.165458</td>\n",
       "      <td>0.279085</td>\n",
       "      <td>0.412626</td>\n",
       "      <td>-0.493297</td>\n",
       "      <td>1.000000</td>\n",
       "      <td>0.220247</td>\n",
       "      <td>0.198817</td>\n",
       "    </tr>\n",
       "    <tr>\n",
       "      <td>SEGLANEKEY</td>\n",
       "      <td>0.104207</td>\n",
       "      <td>-0.001763</td>\n",
       "      <td>0.004485</td>\n",
       "      <td>0.030974</td>\n",
       "      <td>0.022377</td>\n",
       "      <td>0.022257</td>\n",
       "      <td>0.104207</td>\n",
       "      <td>-0.023215</td>\n",
       "      <td>0.001337</td>\n",
       "      <td>0.455445</td>\n",
       "      <td>-0.147410</td>\n",
       "      <td>0.220247</td>\n",
       "      <td>1.000000</td>\n",
       "      <td>-0.003829</td>\n",
       "    </tr>\n",
       "    <tr>\n",
       "      <td>CROSSWALKKEY</td>\n",
       "      <td>0.175470</td>\n",
       "      <td>0.014074</td>\n",
       "      <td>0.009917</td>\n",
       "      <td>0.060922</td>\n",
       "      <td>0.052519</td>\n",
       "      <td>0.052392</td>\n",
       "      <td>0.175470</td>\n",
       "      <td>-0.035761</td>\n",
       "      <td>0.572838</td>\n",
       "      <td>0.109145</td>\n",
       "      <td>-0.242480</td>\n",
       "      <td>0.198817</td>\n",
       "      <td>-0.003829</td>\n",
       "      <td>1.000000</td>\n",
       "    </tr>\n",
       "  </tbody>\n",
       "</table>\n",
       "</div>"
      ],
      "text/plain": [
       "                SEVERITYCODE         X         Y  OBJECTID    INCKEY  \\\n",
       "SEVERITYCODE        1.000000  0.009376  0.019453  0.033295  0.033775   \n",
       "X                   0.009376  1.000000 -0.160256  0.011103  0.010655   \n",
       "Y                   0.019453 -0.160256  1.000000 -0.024478 -0.026877   \n",
       "OBJECTID            0.033295  0.011103 -0.024478  1.000000  0.949900   \n",
       "INCKEY              0.033775  0.010655 -0.026877  0.949900  1.000000   \n",
       "COLDETKEY           0.033765  0.010641 -0.026890  0.949375  0.999996   \n",
       "SEVERITYCODE.1      1.000000  0.009376  0.019453  0.033295  0.033775   \n",
       "PERSONCOUNT         0.124056  0.012834 -0.013937 -0.050523 -0.050278   \n",
       "PEDCOUNT            0.246640  0.010829  0.010783  0.031925  0.032627   \n",
       "PEDCYLCOUNT         0.214972 -0.002093  0.027070  0.041067  0.038202   \n",
       "VEHCOUNT           -0.084710 -0.015696  0.020340 -0.016035 -0.015539   \n",
       "SDOT_COLCODE        0.167126  0.009627 -0.018722 -0.014311 -0.011945   \n",
       "SEGLANEKEY          0.104207 -0.001763  0.004485  0.030974  0.022377   \n",
       "CROSSWALKKEY        0.175470  0.014074  0.009917  0.060922  0.052519   \n",
       "\n",
       "                COLDETKEY  SEVERITYCODE.1  PERSONCOUNT  PEDCOUNT  PEDCYLCOUNT  \\\n",
       "SEVERITYCODE     0.033765        1.000000     0.124056  0.246640     0.214972   \n",
       "X                0.010641        0.009376     0.012834  0.010829    -0.002093   \n",
       "Y               -0.026890        0.019453    -0.013937  0.010783     0.027070   \n",
       "OBJECTID         0.949375        0.033295    -0.050523  0.031925     0.041067   \n",
       "INCKEY           0.999996        0.033775    -0.050278  0.032627     0.038202   \n",
       "COLDETKEY        1.000000        0.033765    -0.050197  0.032622     0.038155   \n",
       "SEVERITYCODE.1   0.033765        1.000000     0.124056  0.246640     0.214972   \n",
       "PERSONCOUNT     -0.050197        0.124056     1.000000 -0.027883    -0.043511   \n",
       "PEDCOUNT         0.032622        0.246640    -0.027883  1.000000    -0.018946   \n",
       "PEDCYLCOUNT      0.038155        0.214972    -0.043511 -0.018946     1.000000   \n",
       "VEHCOUNT        -0.015530       -0.084710     0.394979 -0.321795    -0.311533   \n",
       "SDOT_COLCODE    -0.011891        0.167126    -0.165458  0.279085     0.412626   \n",
       "SEGLANEKEY       0.022257        0.104207    -0.023215  0.001337     0.455445   \n",
       "CROSSWALKKEY     0.052392        0.175470    -0.035761  0.572838     0.109145   \n",
       "\n",
       "                VEHCOUNT  SDOT_COLCODE  SEGLANEKEY  CROSSWALKKEY  \n",
       "SEVERITYCODE   -0.084710      0.167126    0.104207      0.175470  \n",
       "X              -0.015696      0.009627   -0.001763      0.014074  \n",
       "Y               0.020340     -0.018722    0.004485      0.009917  \n",
       "OBJECTID       -0.016035     -0.014311    0.030974      0.060922  \n",
       "INCKEY         -0.015539     -0.011945    0.022377      0.052519  \n",
       "COLDETKEY      -0.015530     -0.011891    0.022257      0.052392  \n",
       "SEVERITYCODE.1 -0.084710      0.167126    0.104207      0.175470  \n",
       "PERSONCOUNT     0.394979     -0.165458   -0.023215     -0.035761  \n",
       "PEDCOUNT       -0.321795      0.279085    0.001337      0.572838  \n",
       "PEDCYLCOUNT    -0.311533      0.412626    0.455445      0.109145  \n",
       "VEHCOUNT        1.000000     -0.493297   -0.147410     -0.242480  \n",
       "SDOT_COLCODE   -0.493297      1.000000    0.220247      0.198817  \n",
       "SEGLANEKEY     -0.147410      0.220247    1.000000     -0.003829  \n",
       "CROSSWALKKEY   -0.242480      0.198817   -0.003829      1.000000  "
      ]
     },
     "execution_count": 14,
     "metadata": {},
     "output_type": "execute_result"
    }
   ],
   "source": [
    "df.corr()"
   ]
  },
  {
   "cell_type": "code",
   "execution_count": 15,
   "metadata": {},
   "outputs": [
    {
     "data": {
      "image/png": "[encoded data removed]",
      "text/plain": [
       "<Figure size 432x288 with 1 Axes>"
      ]
     },
     "metadata": {},
     "output_type": "display_data"
    }
   ],
   "source": [
    "plt.style.use('ggplot')\n",
    "# bar graph showing correlation of label and numerical independent variables\n",
    "df.corr().loc['SEVERITYCODE'].sort_values(ascending=False)[2:].plot.bar()\n",
    "# as seen in the plot non of the numerical variables have neither positive correlation (>0.4) nor negative correlation (>-0.4)\n",
    "# since none of the numerical columns have any correlation we drop them as shown in the next cell\n",
    "plt.tight_layout()\n",
    "# plt.savefig('Correlation.jpg',dpi=200)"
   ]
  },
  {
   "cell_type": "code",
   "execution_count": 16,
   "metadata": {},
   "outputs": [
    {
     "name": "stdout",
     "output_type": "stream",
     "text": [
      "The pearson correlation of the PEDCOUNT feature is 0.2466400115122333 with a p-value of 0.0\n"
     ]
    },
    {
     "data": {
      "image/png": "[encoded data removed]",
      "text/plain": [
       "<Figure size 504x360 with 1 Axes>"
      ]
     },
     "metadata": {},
     "output_type": "display_data"
    }
   ],
   "source": [
    "plt.figure(figsize=(7,5))\n",
    "# examining relationship between pedestrian count and label\n",
    "sns.regplot(x='PEDCOUNT',y='SEVERITYCODE',data=df)\n",
    "# importing scipy library to get pearson correlation coefficient and p-value\n",
    "from scipy import stats\n",
    "pearson_coeff, p_value = stats.pearsonr(df['PEDCOUNT'],df['SEVERITYCODE'])\n",
    "print('The pearson correlation of the PEDCOUNT feature is', pearson_coeff, 'with a p-value of', p_value)\n",
    "# plt.savefig('pedcount.jpg',dpi=200)"
   ]
  },
  {
   "cell_type": "code",
   "execution_count": 17,
   "metadata": {},
   "outputs": [
    {
     "name": "stdout",
     "output_type": "stream",
     "text": [
      "The pearson correlation of the PEDCYLCOUNT feature is 0.2149722383113905 with a p-value of 0.0\n"
     ]
    },
    {
     "data": {
      "image/png": "[encoded data removed]",
      "text/plain": [
       "<Figure size 504x360 with 1 Axes>"
      ]
     },
     "metadata": {},
     "output_type": "display_data"
    }
   ],
   "source": [
    "plt.figure(figsize=(7,5))\n",
    "# examining relationship between pedestrian count and label\n",
    "sns.regplot(x='PEDCYLCOUNT',y='SEVERITYCODE',data=df)\n",
    "# importing scipy library to get pearson correlation coefficient and p-value\n",
    "from scipy import stats\n",
    "pearson_coeff, p_value = stats.pearsonr(df['PEDCYLCOUNT'],df['SEVERITYCODE'])\n",
    "print('The pearson correlation of the PEDCYLCOUNT feature is', pearson_coeff, 'with a p-value of', p_value)\n",
    "# plt.savefig('pedcylcount.jpg',dpi=200)"
   ]
  },
  {
   "cell_type": "code",
   "execution_count": 18,
   "metadata": {},
   "outputs": [
    {
     "data": {
      "text/plain": [
       "Index(['SEVERITYCODE', 'OBJECTID', 'INCKEY', 'COLDETKEY', 'SEVERITYCODE.1',\n",
       "       'PERSONCOUNT', 'PEDCOUNT', 'PEDCYLCOUNT', 'VEHCOUNT', 'SDOT_COLCODE',\n",
       "       'SEGLANEKEY', 'CROSSWALKKEY'],\n",
       "      dtype='object')"
      ]
     },
     "execution_count": 18,
     "metadata": {},
     "output_type": "execute_result"
    }
   ],
   "source": [
    "# the numerical columns showed no correlation hence we drop them\n",
    "df.select_dtypes('int64').columns"
   ]
  },
  {
   "cell_type": "code",
   "execution_count": 19,
   "metadata": {},
   "outputs": [
    {
     "data": {
      "text/plain": [
       "Index(['X', 'Y'], dtype='object')"
      ]
     },
     "execution_count": 19,
     "metadata": {},
     "output_type": "execute_result"
    }
   ],
   "source": [
    "# getting numerical columns to drop them\n",
    "df.select_dtypes('float64').columns"
   ]
  },
  {
   "cell_type": "code",
   "execution_count": 20,
   "metadata": {},
   "outputs": [],
   "source": [
    "df.drop(labels=['OBJECTID', 'INCKEY', 'COLDETKEY', 'SEVERITYCODE.1',\n",
    "               'PERSONCOUNT', 'PEDCOUNT', 'PEDCYLCOUNT', 'VEHCOUNT', 'SDOT_COLCODE',\n",
    "               'SEGLANEKEY', 'CROSSWALKKEY','X', 'Y'], axis=1, inplace=True)"
   ]
  },
  {
   "cell_type": "code",
   "execution_count": 21,
   "metadata": {},
   "outputs": [
    {
     "data": {
      "text/plain": [
       "Index(['SEVERITYCODE', 'REPORTNO', 'STATUS', 'ADDRTYPE', 'LOCATION',\n",
       "       'COLLISIONTYPE', 'INCDATE', 'INCDTTM', 'JUNCTIONTYPE', 'UNDERINFL',\n",
       "       'WEATHER', 'ROADCOND', 'LIGHTCOND', 'ST_COLCODE', 'HITPARKEDCAR'],\n",
       "      dtype='object')"
      ]
     },
     "execution_count": 21,
     "metadata": {},
     "output_type": "execute_result"
    }
   ],
   "source": [
    "df.columns"
   ]
  },
  {
   "cell_type": "code",
   "execution_count": 22,
   "metadata": {},
   "outputs": [
    {
     "name": "stdout",
     "output_type": "stream",
     "text": [
      "<class 'pandas.core.frame.DataFrame'>\n",
      "Int64Index: 180067 entries, 0 to 194672\n",
      "Data columns (total 15 columns):\n",
      "SEVERITYCODE     180067 non-null int64\n",
      "REPORTNO         180067 non-null object\n",
      "STATUS           180067 non-null object\n",
      "ADDRTYPE         180067 non-null object\n",
      "LOCATION         180067 non-null object\n",
      "COLLISIONTYPE    180067 non-null object\n",
      "INCDATE          180067 non-null object\n",
      "INCDTTM          180067 non-null object\n",
      "JUNCTIONTYPE     180067 non-null object\n",
      "UNDERINFL        180067 non-null object\n",
      "WEATHER          180067 non-null object\n",
      "ROADCOND         180067 non-null object\n",
      "LIGHTCOND        180067 non-null object\n",
      "ST_COLCODE       180067 non-null object\n",
      "HITPARKEDCAR     180067 non-null object\n",
      "dtypes: int64(1), object(14)\n",
      "memory usage: 22.0+ MB\n"
     ]
    }
   ],
   "source": [
    "df.info()"
   ]
  },
  {
   "cell_type": "code",
   "execution_count": 23,
   "metadata": {},
   "outputs": [
    {
     "data": {
      "text/plain": [
       "<matplotlib.axes._subplots.AxesSubplot at 0x1d7005d3e08>"
      ]
     },
     "execution_count": 23,
     "metadata": {},
     "output_type": "execute_result"
    },
    {
     "data": {
      "image/png": "[encoded data removed]",
      "text/plain": [
       "<Figure size 504x360 with 1 Axes>"
      ]
     },
     "metadata": {},
     "output_type": "display_data"
    }
   ],
   "source": [
    "# visualizing count values of hit parked cars\n",
    "plt.figure(figsize=(7,5))\n",
    "sns.countplot(x='HITPARKEDCAR',data=df)\n",
    "# plt.savefig('hitparkedcar.jpg',dpi=200)\n",
    "# the visualization shows too much bias and wouldn'be good for the model"
   ]
  },
  {
   "cell_type": "code",
   "execution_count": 24,
   "metadata": {},
   "outputs": [],
   "source": [
    "# drop HITPARKEDCAR column\n",
    "df.drop('HITPARKEDCAR', axis=1, inplace=True)"
   ]
  },
  {
   "cell_type": "code",
   "execution_count": 25,
   "metadata": {},
   "outputs": [
    {
     "data": {
      "text/plain": [
       "Index(['SEVERITYCODE', 'REPORTNO', 'STATUS', 'ADDRTYPE', 'LOCATION',\n",
       "       'COLLISIONTYPE', 'INCDATE', 'INCDTTM', 'JUNCTIONTYPE', 'UNDERINFL',\n",
       "       'WEATHER', 'ROADCOND', 'LIGHTCOND', 'ST_COLCODE'],\n",
       "      dtype='object')"
      ]
     },
     "execution_count": 25,
     "metadata": {},
     "output_type": "execute_result"
    }
   ],
   "source": [
    "df.columns"
   ]
  },
  {
   "cell_type": "code",
   "execution_count": 26,
   "metadata": {},
   "outputs": [
    {
     "data": {
      "text/plain": [
       "<matplotlib.axes._subplots.AxesSubplot at 0x1d7005a24c8>"
      ]
     },
     "execution_count": 26,
     "metadata": {},
     "output_type": "execute_result"
    },
    {
     "data": {
      "image/png": "[encoded data removed]",
      "text/plain": [
       "<Figure size 1440x576 with 1 Axes>"
      ]
     },
     "metadata": {},
     "output_type": "display_data"
    }
   ],
   "source": [
    "#  visualizing count values of weather conditions\n",
    "#  ['COLLISIONTYPE', 'JUNCTIONTYPE', 'WEATHER', 'ROADCOND', 'LIGHTCOND', 'HITPARKEDCAR']\n",
    "plt.figure(figsize=(20,8))\n",
    "sns.countplot(x='WEATHER',data=df)\n",
    "# plt.savefig('weather.jpg',dpi=200)"
   ]
  },
  {
   "cell_type": "code",
   "execution_count": 27,
   "metadata": {},
   "outputs": [
    {
     "data": {
      "image/png": "[encoded data removed]",
      "text/plain": [
       "<Figure size 1440x576 with 1 Axes>"
      ]
     },
     "metadata": {},
     "output_type": "display_data"
    }
   ],
   "source": [
    "#  visualizing count values of light conditions\n",
    "plt.figure(figsize=(20,8))\n",
    "sns.countplot(x='LIGHTCOND',data=df)\n",
    "plt.tight_layout()\n",
    "# plt.savefig('lightcond.jpg',dpi=200)"
   ]
  },
  {
   "cell_type": "code",
   "execution_count": 28,
   "metadata": {},
   "outputs": [
    {
     "data": {
      "image/png": "[encoded data removed]",
      "text/plain": [
       "<Figure size 1440x576 with 1 Axes>"
      ]
     },
     "metadata": {},
     "output_type": "display_data"
    }
   ],
   "source": [
    "#  visualizing count values of light conditions\n",
    "plt.figure(figsize=(20,8))\n",
    "sns.countplot(x='COLLISIONTYPE',data=df)\n",
    "plt.tight_layout()\n",
    "# plt.savefig('collision.jpg',dpi=200)"
   ]
  },
  {
   "cell_type": "code",
   "execution_count": 29,
   "metadata": {},
   "outputs": [
    {
     "data": {
      "text/plain": [
       "Index(['SEVERITYCODE', 'REPORTNO', 'STATUS', 'ADDRTYPE', 'LOCATION',\n",
       "       'COLLISIONTYPE', 'INCDATE', 'INCDTTM', 'JUNCTIONTYPE', 'UNDERINFL',\n",
       "       'WEATHER', 'ROADCOND', 'LIGHTCOND', 'ST_COLCODE'],\n",
       "      dtype='object')"
      ]
     },
     "execution_count": 29,
     "metadata": {},
     "output_type": "execute_result"
    }
   ],
   "source": [
    "df.columns"
   ]
  },
  {
   "cell_type": "code",
   "execution_count": 30,
   "metadata": {},
   "outputs": [],
   "source": [
    "# removing irrelevant features\n",
    "df.drop(labels = ['REPORTNO','STATUS','ADDRTYPE','LOCATION',\n",
    "                  'INCDATE','INCDTTM','UNDERINFL', 'ST_COLCODE',], \n",
    "                  axis=1, inplace=True)"
   ]
  },
  {
   "cell_type": "code",
   "execution_count": 31,
   "metadata": {},
   "outputs": [
    {
     "data": {
      "text/html": [
       "<div>\n",
       "<style scoped>\n",
       "    .dataframe tbody tr th:only-of-type {\n",
       "        vertical-align: middle;\n",
       "    }\n",
       "\n",
       "    .dataframe tbody tr th {\n",
       "        vertical-align: top;\n",
       "    }\n",
       "\n",
       "    .dataframe thead th {\n",
       "        text-align: right;\n",
       "    }\n",
       "</style>\n",
       "<table border=\"1\" class=\"dataframe\">\n",
       "  <thead>\n",
       "    <tr style=\"text-align: right;\">\n",
       "      <th></th>\n",
       "      <th>SEVERITYCODE</th>\n",
       "      <th>COLLISIONTYPE</th>\n",
       "      <th>JUNCTIONTYPE</th>\n",
       "      <th>WEATHER</th>\n",
       "      <th>ROADCOND</th>\n",
       "      <th>LIGHTCOND</th>\n",
       "    </tr>\n",
       "  </thead>\n",
       "  <tbody>\n",
       "    <tr>\n",
       "      <td>0</td>\n",
       "      <td>2</td>\n",
       "      <td>Angles</td>\n",
       "      <td>At Intersection (intersection related)</td>\n",
       "      <td>Overcast</td>\n",
       "      <td>Wet</td>\n",
       "      <td>Daylight</td>\n",
       "    </tr>\n",
       "    <tr>\n",
       "      <td>1</td>\n",
       "      <td>1</td>\n",
       "      <td>Sideswipe</td>\n",
       "      <td>Mid-Block (not related to intersection)</td>\n",
       "      <td>Raining</td>\n",
       "      <td>Wet</td>\n",
       "      <td>Dark - Street Lights On</td>\n",
       "    </tr>\n",
       "    <tr>\n",
       "      <td>2</td>\n",
       "      <td>1</td>\n",
       "      <td>Parked Car</td>\n",
       "      <td>Mid-Block (not related to intersection)</td>\n",
       "      <td>Overcast</td>\n",
       "      <td>Dry</td>\n",
       "      <td>Daylight</td>\n",
       "    </tr>\n",
       "    <tr>\n",
       "      <td>3</td>\n",
       "      <td>1</td>\n",
       "      <td>Other</td>\n",
       "      <td>Mid-Block (not related to intersection)</td>\n",
       "      <td>Clear</td>\n",
       "      <td>Dry</td>\n",
       "      <td>Daylight</td>\n",
       "    </tr>\n",
       "    <tr>\n",
       "      <td>4</td>\n",
       "      <td>2</td>\n",
       "      <td>Angles</td>\n",
       "      <td>At Intersection (intersection related)</td>\n",
       "      <td>Raining</td>\n",
       "      <td>Wet</td>\n",
       "      <td>Daylight</td>\n",
       "    </tr>\n",
       "  </tbody>\n",
       "</table>\n",
       "</div>"
      ],
      "text/plain": [
       "   SEVERITYCODE COLLISIONTYPE                             JUNCTIONTYPE  \\\n",
       "0             2        Angles   At Intersection (intersection related)   \n",
       "1             1     Sideswipe  Mid-Block (not related to intersection)   \n",
       "2             1    Parked Car  Mid-Block (not related to intersection)   \n",
       "3             1         Other  Mid-Block (not related to intersection)   \n",
       "4             2        Angles   At Intersection (intersection related)   \n",
       "\n",
       "    WEATHER ROADCOND                LIGHTCOND  \n",
       "0  Overcast      Wet                 Daylight  \n",
       "1   Raining      Wet  Dark - Street Lights On  \n",
       "2  Overcast      Dry                 Daylight  \n",
       "3     Clear      Dry                 Daylight  \n",
       "4   Raining      Wet                 Daylight  "
      ]
     },
     "execution_count": 31,
     "metadata": {},
     "output_type": "execute_result"
    }
   ],
   "source": [
    "df.head()"
   ]
  },
  {
   "cell_type": "code",
   "execution_count": 32,
   "metadata": {},
   "outputs": [
    {
     "data": {
      "text/plain": [
       "(180067, 6)"
      ]
     },
     "execution_count": 32,
     "metadata": {},
     "output_type": "execute_result"
    }
   ],
   "source": [
    "df.shape"
   ]
  },
  {
   "cell_type": "code",
   "execution_count": 33,
   "metadata": {},
   "outputs": [
    {
     "data": {
      "text/plain": [
       "Index(['SEVERITYCODE', 'COLLISIONTYPE', 'JUNCTIONTYPE', 'WEATHER', 'ROADCOND',\n",
       "       'LIGHTCOND'],\n",
       "      dtype='object')"
      ]
     },
     "execution_count": 33,
     "metadata": {},
     "output_type": "execute_result"
    }
   ],
   "source": [
    "df.columns"
   ]
  },
  {
   "cell_type": "markdown",
   "metadata": {},
   "source": [
    "###### Creating dummy variables"
   ]
  },
  {
   "cell_type": "code",
   "execution_count": 34,
   "metadata": {},
   "outputs": [],
   "source": [
    "# the data now contains the label and independent variables, however these variables need to be one-hot encoded for the model\n",
    "# create a list of all features to be one-hot encoded\n",
    "to_dummy = ['COLLISIONTYPE', 'JUNCTIONTYPE', 'WEATHER', 'ROADCOND', 'LIGHTCOND']"
   ]
  },
  {
   "cell_type": "code",
   "execution_count": 35,
   "metadata": {
    "scrolled": true
   },
   "outputs": [],
   "source": [
    "# get the dummy variables and assign to a new variable titled final_data\n",
    "final_data = pd.get_dummies(df,columns=to_dummy,drop_first=True)"
   ]
  },
  {
   "cell_type": "code",
   "execution_count": 36,
   "metadata": {},
   "outputs": [
    {
     "data": {
      "text/html": [
       "<div>\n",
       "<style scoped>\n",
       "    .dataframe tbody tr th:only-of-type {\n",
       "        vertical-align: middle;\n",
       "    }\n",
       "\n",
       "    .dataframe tbody tr th {\n",
       "        vertical-align: top;\n",
       "    }\n",
       "\n",
       "    .dataframe thead th {\n",
       "        text-align: right;\n",
       "    }\n",
       "</style>\n",
       "<table border=\"1\" class=\"dataframe\">\n",
       "  <thead>\n",
       "    <tr style=\"text-align: right;\">\n",
       "      <th></th>\n",
       "      <th>SEVERITYCODE</th>\n",
       "      <th>COLLISIONTYPE_Cycles</th>\n",
       "      <th>COLLISIONTYPE_Head On</th>\n",
       "      <th>COLLISIONTYPE_Left Turn</th>\n",
       "      <th>COLLISIONTYPE_Other</th>\n",
       "      <th>COLLISIONTYPE_Parked Car</th>\n",
       "      <th>COLLISIONTYPE_Pedestrian</th>\n",
       "      <th>COLLISIONTYPE_Rear Ended</th>\n",
       "      <th>COLLISIONTYPE_Right Turn</th>\n",
       "      <th>COLLISIONTYPE_Sideswipe</th>\n",
       "      <th>...</th>\n",
       "      <th>ROADCOND_Unknown</th>\n",
       "      <th>ROADCOND_Wet</th>\n",
       "      <th>LIGHTCOND_Dark - Street Lights Off</th>\n",
       "      <th>LIGHTCOND_Dark - Street Lights On</th>\n",
       "      <th>LIGHTCOND_Dark - Unknown Lighting</th>\n",
       "      <th>LIGHTCOND_Dawn</th>\n",
       "      <th>LIGHTCOND_Daylight</th>\n",
       "      <th>LIGHTCOND_Dusk</th>\n",
       "      <th>LIGHTCOND_Other</th>\n",
       "      <th>LIGHTCOND_Unknown</th>\n",
       "    </tr>\n",
       "  </thead>\n",
       "  <tbody>\n",
       "    <tr>\n",
       "      <td>0</td>\n",
       "      <td>2</td>\n",
       "      <td>0</td>\n",
       "      <td>0</td>\n",
       "      <td>0</td>\n",
       "      <td>0</td>\n",
       "      <td>0</td>\n",
       "      <td>0</td>\n",
       "      <td>0</td>\n",
       "      <td>0</td>\n",
       "      <td>0</td>\n",
       "      <td>...</td>\n",
       "      <td>0</td>\n",
       "      <td>1</td>\n",
       "      <td>0</td>\n",
       "      <td>0</td>\n",
       "      <td>0</td>\n",
       "      <td>0</td>\n",
       "      <td>1</td>\n",
       "      <td>0</td>\n",
       "      <td>0</td>\n",
       "      <td>0</td>\n",
       "    </tr>\n",
       "    <tr>\n",
       "      <td>1</td>\n",
       "      <td>1</td>\n",
       "      <td>0</td>\n",
       "      <td>0</td>\n",
       "      <td>0</td>\n",
       "      <td>0</td>\n",
       "      <td>0</td>\n",
       "      <td>0</td>\n",
       "      <td>0</td>\n",
       "      <td>0</td>\n",
       "      <td>1</td>\n",
       "      <td>...</td>\n",
       "      <td>0</td>\n",
       "      <td>1</td>\n",
       "      <td>0</td>\n",
       "      <td>1</td>\n",
       "      <td>0</td>\n",
       "      <td>0</td>\n",
       "      <td>0</td>\n",
       "      <td>0</td>\n",
       "      <td>0</td>\n",
       "      <td>0</td>\n",
       "    </tr>\n",
       "    <tr>\n",
       "      <td>2</td>\n",
       "      <td>1</td>\n",
       "      <td>0</td>\n",
       "      <td>0</td>\n",
       "      <td>0</td>\n",
       "      <td>0</td>\n",
       "      <td>1</td>\n",
       "      <td>0</td>\n",
       "      <td>0</td>\n",
       "      <td>0</td>\n",
       "      <td>0</td>\n",
       "      <td>...</td>\n",
       "      <td>0</td>\n",
       "      <td>0</td>\n",
       "      <td>0</td>\n",
       "      <td>0</td>\n",
       "      <td>0</td>\n",
       "      <td>0</td>\n",
       "      <td>1</td>\n",
       "      <td>0</td>\n",
       "      <td>0</td>\n",
       "      <td>0</td>\n",
       "    </tr>\n",
       "    <tr>\n",
       "      <td>3</td>\n",
       "      <td>1</td>\n",
       "      <td>0</td>\n",
       "      <td>0</td>\n",
       "      <td>0</td>\n",
       "      <td>1</td>\n",
       "      <td>0</td>\n",
       "      <td>0</td>\n",
       "      <td>0</td>\n",
       "      <td>0</td>\n",
       "      <td>0</td>\n",
       "      <td>...</td>\n",
       "      <td>0</td>\n",
       "      <td>0</td>\n",
       "      <td>0</td>\n",
       "      <td>0</td>\n",
       "      <td>0</td>\n",
       "      <td>0</td>\n",
       "      <td>1</td>\n",
       "      <td>0</td>\n",
       "      <td>0</td>\n",
       "      <td>0</td>\n",
       "    </tr>\n",
       "    <tr>\n",
       "      <td>4</td>\n",
       "      <td>2</td>\n",
       "      <td>0</td>\n",
       "      <td>0</td>\n",
       "      <td>0</td>\n",
       "      <td>0</td>\n",
       "      <td>0</td>\n",
       "      <td>0</td>\n",
       "      <td>0</td>\n",
       "      <td>0</td>\n",
       "      <td>0</td>\n",
       "      <td>...</td>\n",
       "      <td>0</td>\n",
       "      <td>1</td>\n",
       "      <td>0</td>\n",
       "      <td>0</td>\n",
       "      <td>0</td>\n",
       "      <td>0</td>\n",
       "      <td>1</td>\n",
       "      <td>0</td>\n",
       "      <td>0</td>\n",
       "      <td>0</td>\n",
       "    </tr>\n",
       "  </tbody>\n",
       "</table>\n",
       "<p>5 rows × 42 columns</p>\n",
       "</div>"
      ],
      "text/plain": [
       "   SEVERITYCODE  COLLISIONTYPE_Cycles  COLLISIONTYPE_Head On  \\\n",
       "0             2                     0                      0   \n",
       "1             1                     0                      0   \n",
       "2             1                     0                      0   \n",
       "3             1                     0                      0   \n",
       "4             2                     0                      0   \n",
       "\n",
       "   COLLISIONTYPE_Left Turn  COLLISIONTYPE_Other  COLLISIONTYPE_Parked Car  \\\n",
       "0                        0                    0                         0   \n",
       "1                        0                    0                         0   \n",
       "2                        0                    0                         1   \n",
       "3                        0                    1                         0   \n",
       "4                        0                    0                         0   \n",
       "\n",
       "   COLLISIONTYPE_Pedestrian  COLLISIONTYPE_Rear Ended  \\\n",
       "0                         0                         0   \n",
       "1                         0                         0   \n",
       "2                         0                         0   \n",
       "3                         0                         0   \n",
       "4                         0                         0   \n",
       "\n",
       "   COLLISIONTYPE_Right Turn  COLLISIONTYPE_Sideswipe  ...  ROADCOND_Unknown  \\\n",
       "0                         0                        0  ...                 0   \n",
       "1                         0                        1  ...                 0   \n",
       "2                         0                        0  ...                 0   \n",
       "3                         0                        0  ...                 0   \n",
       "4                         0                        0  ...                 0   \n",
       "\n",
       "   ROADCOND_Wet  LIGHTCOND_Dark - Street Lights Off  \\\n",
       "0             1                                   0   \n",
       "1             1                                   0   \n",
       "2             0                                   0   \n",
       "3             0                                   0   \n",
       "4             1                                   0   \n",
       "\n",
       "   LIGHTCOND_Dark - Street Lights On  LIGHTCOND_Dark - Unknown Lighting  \\\n",
       "0                                  0                                  0   \n",
       "1                                  1                                  0   \n",
       "2                                  0                                  0   \n",
       "3                                  0                                  0   \n",
       "4                                  0                                  0   \n",
       "\n",
       "   LIGHTCOND_Dawn  LIGHTCOND_Daylight  LIGHTCOND_Dusk  LIGHTCOND_Other  \\\n",
       "0               0                   1               0                0   \n",
       "1               0                   0               0                0   \n",
       "2               0                   1               0                0   \n",
       "3               0                   1               0                0   \n",
       "4               0                   1               0                0   \n",
       "\n",
       "   LIGHTCOND_Unknown  \n",
       "0                  0  \n",
       "1                  0  \n",
       "2                  0  \n",
       "3                  0  \n",
       "4                  0  \n",
       "\n",
       "[5 rows x 42 columns]"
      ]
     },
     "execution_count": 36,
     "metadata": {},
     "output_type": "execute_result"
    }
   ],
   "source": [
    "final_data.head()"
   ]
  },
  {
   "cell_type": "code",
   "execution_count": 37,
   "metadata": {},
   "outputs": [
    {
     "data": {
      "text/plain": [
       "(180067, 42)"
      ]
     },
     "execution_count": 37,
     "metadata": {},
     "output_type": "execute_result"
    }
   ],
   "source": [
    "final_data.shape"
   ]
  },
  {
   "cell_type": "markdown",
   "metadata": {},
   "source": [
    "###### Splitting data into train and test sets"
   ]
  },
  {
   "cell_type": "code",
   "execution_count": 38,
   "metadata": {},
   "outputs": [],
   "source": [
    "# now that we have our final data set we can split our data into train and test sets\n",
    "from sklearn.model_selection import train_test_split\n",
    "X = final_data.drop('SEVERITYCODE',axis=1)\n",
    "y = df['SEVERITYCODE']\n",
    "X_train, X_test, y_train, y_test = train_test_split(X, y, test_size=0.30, random_state=101)"
   ]
  },
  {
   "cell_type": "code",
   "execution_count": 39,
   "metadata": {},
   "outputs": [
    {
     "name": "stdout",
     "output_type": "stream",
     "text": [
      "(126046, 41)\n",
      "(126046,)\n"
     ]
    }
   ],
   "source": [
    "print(X_train.shape)\n",
    "print(y_train.shape)"
   ]
  },
  {
   "cell_type": "code",
   "execution_count": 40,
   "metadata": {},
   "outputs": [
    {
     "name": "stdout",
     "output_type": "stream",
     "text": [
      "(54021, 41)\n",
      "(54021,)\n"
     ]
    }
   ],
   "source": [
    "print(X_test.shape)\n",
    "print(y_test.shape)"
   ]
  },
  {
   "cell_type": "markdown",
   "metadata": {},
   "source": [
    "###### Building Decision Tree Model"
   ]
  },
  {
   "cell_type": "code",
   "execution_count": 41,
   "metadata": {},
   "outputs": [],
   "source": [
    "# now that we have our final data set we can build our model\n",
    "# import model from sklearn library\n",
    "from sklearn.tree import DecisionTreeClassifier\n",
    "# next we create an instance of our model\n",
    "dtree = DecisionTreeClassifier(criterion=\"entropy\", max_depth = 4)"
   ]
  },
  {
   "cell_type": "code",
   "execution_count": 42,
   "metadata": {},
   "outputs": [
    {
     "data": {
      "text/plain": [
       "DecisionTreeClassifier(class_weight=None, criterion='entropy', max_depth=4,\n",
       "                       max_features=None, max_leaf_nodes=None,\n",
       "                       min_impurity_decrease=0.0, min_impurity_split=None,\n",
       "                       min_samples_leaf=1, min_samples_split=2,\n",
       "                       min_weight_fraction_leaf=0.0, presort=False,\n",
       "                       random_state=None, splitter='best')"
      ]
     },
     "execution_count": 42,
     "metadata": {},
     "output_type": "execute_result"
    }
   ],
   "source": [
    "# next we fit our training data to the model\n",
    "dtree.fit(X_train,y_train)"
   ]
  },
  {
   "cell_type": "markdown",
   "metadata": {},
   "source": [
    "###### Predictions using decision trees"
   ]
  },
  {
   "cell_type": "code",
   "execution_count": 43,
   "metadata": {},
   "outputs": [],
   "source": [
    "# predict using test set\n",
    "dtree_predictions = dtree.predict(X_test)"
   ]
  },
  {
   "cell_type": "markdown",
   "metadata": {},
   "source": [
    "###### Decision Tree Evaluation"
   ]
  },
  {
   "cell_type": "code",
   "execution_count": 44,
   "metadata": {},
   "outputs": [],
   "source": [
    "from sklearn.metrics import classification_report,confusion_matrix\n",
    "from sklearn import metrics"
   ]
  },
  {
   "cell_type": "code",
   "execution_count": 45,
   "metadata": {
    "scrolled": true
   },
   "outputs": [
    {
     "name": "stdout",
     "output_type": "stream",
     "text": [
      "              precision    recall  f1-score   support\n",
      "\n",
      "           1       0.73      0.99      0.84     37337\n",
      "           2       0.89      0.19      0.31     16684\n",
      "\n",
      "    accuracy                           0.74     54021\n",
      "   macro avg       0.81      0.59      0.58     54021\n",
      "weighted avg       0.78      0.74      0.68     54021\n",
      "\n"
     ]
    }
   ],
   "source": [
    "# classification report\n",
    "print(classification_report(y_test,dtree_predictions))"
   ]
  },
  {
   "cell_type": "code",
   "execution_count": 46,
   "metadata": {},
   "outputs": [
    {
     "name": "stdout",
     "output_type": "stream",
     "text": [
      "[[36934   403]\n",
      " [13530  3154]]\n"
     ]
    }
   ],
   "source": [
    "# confusion matrix\n",
    "print(confusion_matrix(y_test,dtree_predictions))"
   ]
  },
  {
   "cell_type": "code",
   "execution_count": 47,
   "metadata": {},
   "outputs": [
    {
     "name": "stdout",
     "output_type": "stream",
     "text": [
      "Decision Trees's Accuracy:  0.7420817830103108\n"
     ]
    }
   ],
   "source": [
    "# model accuracy score\n",
    "print(\"Decision Trees's Accuracy: \", metrics.accuracy_score(y_test,dtree_predictions))"
   ]
  },
  {
   "cell_type": "markdown",
   "metadata": {},
   "source": [
    "###### Building Logistic Regression Model"
   ]
  },
  {
   "cell_type": "code",
   "execution_count": 48,
   "metadata": {},
   "outputs": [],
   "source": [
    "from sklearn.linear_model import LogisticRegression"
   ]
  },
  {
   "cell_type": "code",
   "execution_count": 49,
   "metadata": {},
   "outputs": [],
   "source": [
    "lr = LogisticRegression()"
   ]
  },
  {
   "cell_type": "code",
   "execution_count": 50,
   "metadata": {
    "scrolled": true
   },
   "outputs": [
    {
     "name": "stderr",
     "output_type": "stream",
     "text": [
      "C:\\Anaconda\\lib\\site-packages\\sklearn\\linear_model\\logistic.py:432: FutureWarning: Default solver will be changed to 'lbfgs' in 0.22. Specify a solver to silence this warning.\n",
      "  FutureWarning)\n"
     ]
    },
    {
     "data": {
      "text/plain": [
       "LogisticRegression(C=1.0, class_weight=None, dual=False, fit_intercept=True,\n",
       "                   intercept_scaling=1, l1_ratio=None, max_iter=100,\n",
       "                   multi_class='warn', n_jobs=None, penalty='l2',\n",
       "                   random_state=None, solver='warn', tol=0.0001, verbose=0,\n",
       "                   warm_start=False)"
      ]
     },
     "execution_count": 50,
     "metadata": {},
     "output_type": "execute_result"
    }
   ],
   "source": [
    "lr.fit(X_train,y_train)"
   ]
  },
  {
   "cell_type": "markdown",
   "metadata": {},
   "source": [
    "###### Predictions using logistic regression"
   ]
  },
  {
   "cell_type": "code",
   "execution_count": 51,
   "metadata": {},
   "outputs": [],
   "source": [
    "lr_predictions = lr.predict(X_test)"
   ]
  },
  {
   "cell_type": "markdown",
   "metadata": {},
   "source": [
    "###### Logistic Regression Evaluation"
   ]
  },
  {
   "cell_type": "code",
   "execution_count": 52,
   "metadata": {},
   "outputs": [
    {
     "name": "stdout",
     "output_type": "stream",
     "text": [
      "              precision    recall  f1-score   support\n",
      "\n",
      "           1       0.73      0.99      0.84     37337\n",
      "           2       0.89      0.19      0.31     16684\n",
      "\n",
      "    accuracy                           0.74     54021\n",
      "   macro avg       0.81      0.59      0.58     54021\n",
      "weighted avg       0.78      0.74      0.68     54021\n",
      "\n"
     ]
    }
   ],
   "source": [
    "# classification report\n",
    "print(classification_report(y_test,lr_predictions))"
   ]
  },
  {
   "cell_type": "code",
   "execution_count": 53,
   "metadata": {},
   "outputs": [
    {
     "name": "stdout",
     "output_type": "stream",
     "text": [
      "[[36932   405]\n",
      " [13526  3158]]\n"
     ]
    }
   ],
   "source": [
    "# confusion matrix\n",
    "print(confusion_matrix(y_test,lr_predictions))"
   ]
  },
  {
   "cell_type": "code",
   "execution_count": 54,
   "metadata": {},
   "outputs": [
    {
     "name": "stdout",
     "output_type": "stream",
     "text": [
      "Logistic regression's Accuracy:  0.7421188056496547\n"
     ]
    }
   ],
   "source": [
    "# model accuracy score\n",
    "print(\"Logistic regression's Accuracy: \", metrics.accuracy_score(y_test,lr_predictions))"
   ]
  },
  {
   "cell_type": "markdown",
   "metadata": {},
   "source": [
    "###### Building SVM Model"
   ]
  },
  {
   "cell_type": "code",
   "execution_count": 55,
   "metadata": {},
   "outputs": [],
   "source": [
    "from sklearn.svm import SVC"
   ]
  },
  {
   "cell_type": "code",
   "execution_count": 56,
   "metadata": {},
   "outputs": [],
   "source": [
    "svc_model = SVC(kernel='rbf')"
   ]
  },
  {
   "cell_type": "code",
   "execution_count": 57,
   "metadata": {},
   "outputs": [
    {
     "name": "stderr",
     "output_type": "stream",
     "text": [
      "C:\\Anaconda\\lib\\site-packages\\sklearn\\svm\\base.py:193: FutureWarning: The default value of gamma will change from 'auto' to 'scale' in version 0.22 to account better for unscaled features. Set gamma explicitly to 'auto' or 'scale' to avoid this warning.\n",
      "  \"avoid this warning.\", FutureWarning)\n"
     ]
    },
    {
     "data": {
      "text/plain": [
       "SVC(C=1.0, cache_size=200, class_weight=None, coef0=0.0,\n",
       "    decision_function_shape='ovr', degree=3, gamma='auto_deprecated',\n",
       "    kernel='rbf', max_iter=-1, probability=False, random_state=None,\n",
       "    shrinking=True, tol=0.001, verbose=False)"
      ]
     },
     "execution_count": 57,
     "metadata": {},
     "output_type": "execute_result"
    }
   ],
   "source": [
    "svc_model.fit(X_train, y_train)"
   ]
  },
  {
   "cell_type": "markdown",
   "metadata": {},
   "source": [
    "###### Predictions using SVM"
   ]
  },
  {
   "cell_type": "code",
   "execution_count": 58,
   "metadata": {},
   "outputs": [],
   "source": [
    "svc_predictions = svc_model.predict(X_test)"
   ]
  },
  {
   "cell_type": "markdown",
   "metadata": {},
   "source": [
    "###### SVM Evaluation"
   ]
  },
  {
   "cell_type": "code",
   "execution_count": 59,
   "metadata": {},
   "outputs": [
    {
     "name": "stdout",
     "output_type": "stream",
     "text": [
      "[[36934   403]\n",
      " [13529  3155]]\n"
     ]
    }
   ],
   "source": [
    "# confusion matrix\n",
    "print(confusion_matrix(y_test,svc_predictions))"
   ]
  },
  {
   "cell_type": "code",
   "execution_count": 60,
   "metadata": {},
   "outputs": [
    {
     "name": "stdout",
     "output_type": "stream",
     "text": [
      "              precision    recall  f1-score   support\n",
      "\n",
      "           1       0.73      0.99      0.84     37337\n",
      "           2       0.89      0.19      0.31     16684\n",
      "\n",
      "    accuracy                           0.74     54021\n",
      "   macro avg       0.81      0.59      0.58     54021\n",
      "weighted avg       0.78      0.74      0.68     54021\n",
      "\n"
     ]
    }
   ],
   "source": [
    "# classification report\n",
    "print(classification_report(y_test,svc_predictions))"
   ]
  },
  {
   "cell_type": "code",
   "execution_count": 61,
   "metadata": {},
   "outputs": [
    {
     "name": "stdout",
     "output_type": "stream",
     "text": [
      "SVC model's Accuracy:  0.7421002943299828\n"
     ]
    }
   ],
   "source": [
    "# model accuracy score\n",
    "print(\"SVC model's Accuracy: \", metrics.accuracy_score(y_test,svc_predictions))"
   ]
  },
  {
   "cell_type": "markdown",
   "metadata": {},
   "source": [
    "###### Computing AUROC values"
   ]
  },
  {
   "cell_type": "code",
   "execution_count": 68,
   "metadata": {},
   "outputs": [],
   "source": [
    "from sklearn.metrics import roc_curve, roc_auc_score"
   ]
  },
  {
   "cell_type": "code",
   "execution_count": 69,
   "metadata": {},
   "outputs": [],
   "source": [
    "dtree_auc = roc_auc_score(y_test, dtree_predictions)\n",
    "lr_auc = roc_auc_score(y_test, lr_predictions)\n",
    "svm_auc = roc_auc_score(y_test, svc_predictions)"
   ]
  },
  {
   "cell_type": "markdown",
   "metadata": {},
   "source": [
    "###### Print AUROC scores"
   ]
  },
  {
   "cell_type": "code",
   "execution_count": 80,
   "metadata": {},
   "outputs": [
    {
     "name": "stdout",
     "output_type": "stream",
     "text": [
      "Decision Tree: AUROC = 0.589\n",
      "Logistic Regression: AUROC = 0.589\n",
      "SVM: AUROC = 0.589\n"
     ]
    }
   ],
   "source": [
    "print('Decision Tree: AUROC = %.3f' % (dtree_auc))\n",
    "print('Logistic Regression: AUROC = %.3f' % (lr_auc))\n",
    "print('SVM: AUROC = %.3f' % (svm_auc))"
   ]
  },
  {
   "cell_type": "code",
   "execution_count": null,
   "metadata": {},
   "outputs": [],
   "source": []
  }
 ],
 "metadata": {
  "kernelspec": {
   "display_name": "Python 3",
   "language": "python",
   "name": "python3"
  },
  "language_info": {
   "codemirror_mode": {
    "name": "ipython",
    "version": 3
   },
   "file_extension": ".py",
   "mimetype": "text/x-python",
   "name": "python",
   "nbconvert_exporter": "python",
   "pygments_lexer": "ipython3",
   "version": "3.7.4"
  }
 },
 "nbformat": 4,
 "nbformat_minor": 2
}
